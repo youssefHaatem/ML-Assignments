{
 "cells": [
  {
   "cell_type": "code",
   "execution_count": 293,
   "metadata": {},
   "outputs": [],
   "source": [
    "import os \n",
    "\n",
    "import numpy as np\n",
    "from matplotlib import pyplot as plt\n",
    "from mpl_toolkits.mplot3d import Axes3D\n",
    "import pandas as pd\n",
    "from scipy import optimize\n",
    "\n",
    "from scipy.io import loadmat\n",
    "\n"
   ]
  },
  {
   "cell_type": "code",
   "execution_count": 204,
   "metadata": {},
   "outputs": [
    {
     "data": {
      "text/html": [
       "<div>\n",
       "<style scoped>\n",
       "    .dataframe tbody tr th:only-of-type {\n",
       "        vertical-align: middle;\n",
       "    }\n",
       "\n",
       "    .dataframe tbody tr th {\n",
       "        vertical-align: top;\n",
       "    }\n",
       "\n",
       "    .dataframe thead th {\n",
       "        text-align: right;\n",
       "    }\n",
       "</style>\n",
       "<table border=\"1\" class=\"dataframe\">\n",
       "  <thead>\n",
       "    <tr style=\"text-align: right;\">\n",
       "      <th></th>\n",
       "      <th>id</th>\n",
       "      <th>date</th>\n",
       "      <th>price</th>\n",
       "      <th>bedrooms</th>\n",
       "      <th>bathrooms</th>\n",
       "      <th>sqft_living</th>\n",
       "      <th>sqft_lot</th>\n",
       "      <th>floors</th>\n",
       "      <th>waterfront</th>\n",
       "      <th>view</th>\n",
       "      <th>...</th>\n",
       "      <th>grade</th>\n",
       "      <th>sqft_above</th>\n",
       "      <th>sqft_basement</th>\n",
       "      <th>yr_built</th>\n",
       "      <th>yr_renovated</th>\n",
       "      <th>zipcode</th>\n",
       "      <th>lat</th>\n",
       "      <th>long</th>\n",
       "      <th>sqft_living15</th>\n",
       "      <th>sqft_lot15</th>\n",
       "    </tr>\n",
       "  </thead>\n",
       "  <tbody>\n",
       "    <tr>\n",
       "      <th>0</th>\n",
       "      <td>7129300520</td>\n",
       "      <td>20141013T000000</td>\n",
       "      <td>221900.0</td>\n",
       "      <td>3</td>\n",
       "      <td>1.00</td>\n",
       "      <td>1180</td>\n",
       "      <td>5650</td>\n",
       "      <td>1.0</td>\n",
       "      <td>0</td>\n",
       "      <td>0</td>\n",
       "      <td>...</td>\n",
       "      <td>7</td>\n",
       "      <td>1180</td>\n",
       "      <td>0</td>\n",
       "      <td>1955</td>\n",
       "      <td>0</td>\n",
       "      <td>98178</td>\n",
       "      <td>47.5112</td>\n",
       "      <td>-122.257</td>\n",
       "      <td>1340</td>\n",
       "      <td>5650</td>\n",
       "    </tr>\n",
       "    <tr>\n",
       "      <th>1</th>\n",
       "      <td>6414100192</td>\n",
       "      <td>20141209T000000</td>\n",
       "      <td>538000.0</td>\n",
       "      <td>3</td>\n",
       "      <td>2.25</td>\n",
       "      <td>2570</td>\n",
       "      <td>7242</td>\n",
       "      <td>2.0</td>\n",
       "      <td>0</td>\n",
       "      <td>0</td>\n",
       "      <td>...</td>\n",
       "      <td>7</td>\n",
       "      <td>2170</td>\n",
       "      <td>400</td>\n",
       "      <td>1951</td>\n",
       "      <td>1991</td>\n",
       "      <td>98125</td>\n",
       "      <td>47.7210</td>\n",
       "      <td>-122.319</td>\n",
       "      <td>1690</td>\n",
       "      <td>7639</td>\n",
       "    </tr>\n",
       "    <tr>\n",
       "      <th>2</th>\n",
       "      <td>5631500400</td>\n",
       "      <td>20150225T000000</td>\n",
       "      <td>180000.0</td>\n",
       "      <td>2</td>\n",
       "      <td>1.00</td>\n",
       "      <td>770</td>\n",
       "      <td>10000</td>\n",
       "      <td>1.0</td>\n",
       "      <td>0</td>\n",
       "      <td>0</td>\n",
       "      <td>...</td>\n",
       "      <td>6</td>\n",
       "      <td>770</td>\n",
       "      <td>0</td>\n",
       "      <td>1933</td>\n",
       "      <td>0</td>\n",
       "      <td>98028</td>\n",
       "      <td>47.7379</td>\n",
       "      <td>-122.233</td>\n",
       "      <td>2720</td>\n",
       "      <td>8062</td>\n",
       "    </tr>\n",
       "    <tr>\n",
       "      <th>3</th>\n",
       "      <td>2487200875</td>\n",
       "      <td>20141209T000000</td>\n",
       "      <td>604000.0</td>\n",
       "      <td>4</td>\n",
       "      <td>3.00</td>\n",
       "      <td>1960</td>\n",
       "      <td>5000</td>\n",
       "      <td>1.0</td>\n",
       "      <td>0</td>\n",
       "      <td>0</td>\n",
       "      <td>...</td>\n",
       "      <td>7</td>\n",
       "      <td>1050</td>\n",
       "      <td>910</td>\n",
       "      <td>1965</td>\n",
       "      <td>0</td>\n",
       "      <td>98136</td>\n",
       "      <td>47.5208</td>\n",
       "      <td>-122.393</td>\n",
       "      <td>1360</td>\n",
       "      <td>5000</td>\n",
       "    </tr>\n",
       "    <tr>\n",
       "      <th>4</th>\n",
       "      <td>1954400510</td>\n",
       "      <td>20150218T000000</td>\n",
       "      <td>510000.0</td>\n",
       "      <td>3</td>\n",
       "      <td>2.00</td>\n",
       "      <td>1680</td>\n",
       "      <td>8080</td>\n",
       "      <td>1.0</td>\n",
       "      <td>0</td>\n",
       "      <td>0</td>\n",
       "      <td>...</td>\n",
       "      <td>8</td>\n",
       "      <td>1680</td>\n",
       "      <td>0</td>\n",
       "      <td>1987</td>\n",
       "      <td>0</td>\n",
       "      <td>98074</td>\n",
       "      <td>47.6168</td>\n",
       "      <td>-122.045</td>\n",
       "      <td>1800</td>\n",
       "      <td>7503</td>\n",
       "    </tr>\n",
       "    <tr>\n",
       "      <th>...</th>\n",
       "      <td>...</td>\n",
       "      <td>...</td>\n",
       "      <td>...</td>\n",
       "      <td>...</td>\n",
       "      <td>...</td>\n",
       "      <td>...</td>\n",
       "      <td>...</td>\n",
       "      <td>...</td>\n",
       "      <td>...</td>\n",
       "      <td>...</td>\n",
       "      <td>...</td>\n",
       "      <td>...</td>\n",
       "      <td>...</td>\n",
       "      <td>...</td>\n",
       "      <td>...</td>\n",
       "      <td>...</td>\n",
       "      <td>...</td>\n",
       "      <td>...</td>\n",
       "      <td>...</td>\n",
       "      <td>...</td>\n",
       "      <td>...</td>\n",
       "    </tr>\n",
       "    <tr>\n",
       "      <th>17994</th>\n",
       "      <td>6414100026</td>\n",
       "      <td>20150108T000000</td>\n",
       "      <td>320000.0</td>\n",
       "      <td>2</td>\n",
       "      <td>1.00</td>\n",
       "      <td>1802</td>\n",
       "      <td>11225</td>\n",
       "      <td>1.0</td>\n",
       "      <td>0</td>\n",
       "      <td>0</td>\n",
       "      <td>...</td>\n",
       "      <td>7</td>\n",
       "      <td>1802</td>\n",
       "      <td>0</td>\n",
       "      <td>1961</td>\n",
       "      <td>0</td>\n",
       "      <td>98125</td>\n",
       "      <td>47.7205</td>\n",
       "      <td>-122.323</td>\n",
       "      <td>1810</td>\n",
       "      <td>7332</td>\n",
       "    </tr>\n",
       "    <tr>\n",
       "      <th>17995</th>\n",
       "      <td>1346300035</td>\n",
       "      <td>20140626T000000</td>\n",
       "      <td>1990000.0</td>\n",
       "      <td>5</td>\n",
       "      <td>3.00</td>\n",
       "      <td>4480</td>\n",
       "      <td>5000</td>\n",
       "      <td>2.5</td>\n",
       "      <td>0</td>\n",
       "      <td>0</td>\n",
       "      <td>...</td>\n",
       "      <td>12</td>\n",
       "      <td>3420</td>\n",
       "      <td>1060</td>\n",
       "      <td>1902</td>\n",
       "      <td>0</td>\n",
       "      <td>98112</td>\n",
       "      <td>47.6275</td>\n",
       "      <td>-122.315</td>\n",
       "      <td>3220</td>\n",
       "      <td>5600</td>\n",
       "    </tr>\n",
       "    <tr>\n",
       "      <th>17996</th>\n",
       "      <td>2212210360</td>\n",
       "      <td>20140702T000000</td>\n",
       "      <td>253000.0</td>\n",
       "      <td>2</td>\n",
       "      <td>1.00</td>\n",
       "      <td>1310</td>\n",
       "      <td>7128</td>\n",
       "      <td>1.0</td>\n",
       "      <td>0</td>\n",
       "      <td>0</td>\n",
       "      <td>...</td>\n",
       "      <td>7</td>\n",
       "      <td>940</td>\n",
       "      <td>370</td>\n",
       "      <td>1980</td>\n",
       "      <td>0</td>\n",
       "      <td>98031</td>\n",
       "      <td>47.3958</td>\n",
       "      <td>-122.189</td>\n",
       "      <td>1400</td>\n",
       "      <td>7161</td>\n",
       "    </tr>\n",
       "    <tr>\n",
       "      <th>17997</th>\n",
       "      <td>205000410</td>\n",
       "      <td>20140915T000000</td>\n",
       "      <td>630000.0</td>\n",
       "      <td>3</td>\n",
       "      <td>2.50</td>\n",
       "      <td>2320</td>\n",
       "      <td>32772</td>\n",
       "      <td>2.0</td>\n",
       "      <td>0</td>\n",
       "      <td>0</td>\n",
       "      <td>...</td>\n",
       "      <td>9</td>\n",
       "      <td>2320</td>\n",
       "      <td>0</td>\n",
       "      <td>1992</td>\n",
       "      <td>0</td>\n",
       "      <td>98053</td>\n",
       "      <td>47.6304</td>\n",
       "      <td>-121.988</td>\n",
       "      <td>2610</td>\n",
       "      <td>33305</td>\n",
       "    </tr>\n",
       "    <tr>\n",
       "      <th>17998</th>\n",
       "      <td>2892600056</td>\n",
       "      <td>20150106T000000</td>\n",
       "      <td>216000.0</td>\n",
       "      <td>2</td>\n",
       "      <td>1.00</td>\n",
       "      <td>1130</td>\n",
       "      <td>12500</td>\n",
       "      <td>1.0</td>\n",
       "      <td>0</td>\n",
       "      <td>0</td>\n",
       "      <td>...</td>\n",
       "      <td>7</td>\n",
       "      <td>1130</td>\n",
       "      <td>0</td>\n",
       "      <td>1953</td>\n",
       "      <td>0</td>\n",
       "      <td>98055</td>\n",
       "      <td>47.4514</td>\n",
       "      <td>-122.187</td>\n",
       "      <td>1270</td>\n",
       "      <td>10798</td>\n",
       "    </tr>\n",
       "  </tbody>\n",
       "</table>\n",
       "<p>17999 rows × 21 columns</p>\n",
       "</div>"
      ],
      "text/plain": [
       "               id             date      price  bedrooms  bathrooms  \\\n",
       "0      7129300520  20141013T000000   221900.0         3       1.00   \n",
       "1      6414100192  20141209T000000   538000.0         3       2.25   \n",
       "2      5631500400  20150225T000000   180000.0         2       1.00   \n",
       "3      2487200875  20141209T000000   604000.0         4       3.00   \n",
       "4      1954400510  20150218T000000   510000.0         3       2.00   \n",
       "...           ...              ...        ...       ...        ...   \n",
       "17994  6414100026  20150108T000000   320000.0         2       1.00   \n",
       "17995  1346300035  20140626T000000  1990000.0         5       3.00   \n",
       "17996  2212210360  20140702T000000   253000.0         2       1.00   \n",
       "17997   205000410  20140915T000000   630000.0         3       2.50   \n",
       "17998  2892600056  20150106T000000   216000.0         2       1.00   \n",
       "\n",
       "       sqft_living  sqft_lot  floors  waterfront  view  ...  grade  \\\n",
       "0             1180      5650     1.0           0     0  ...      7   \n",
       "1             2570      7242     2.0           0     0  ...      7   \n",
       "2              770     10000     1.0           0     0  ...      6   \n",
       "3             1960      5000     1.0           0     0  ...      7   \n",
       "4             1680      8080     1.0           0     0  ...      8   \n",
       "...            ...       ...     ...         ...   ...  ...    ...   \n",
       "17994         1802     11225     1.0           0     0  ...      7   \n",
       "17995         4480      5000     2.5           0     0  ...     12   \n",
       "17996         1310      7128     1.0           0     0  ...      7   \n",
       "17997         2320     32772     2.0           0     0  ...      9   \n",
       "17998         1130     12500     1.0           0     0  ...      7   \n",
       "\n",
       "       sqft_above  sqft_basement  yr_built  yr_renovated  zipcode      lat  \\\n",
       "0            1180              0      1955             0    98178  47.5112   \n",
       "1            2170            400      1951          1991    98125  47.7210   \n",
       "2             770              0      1933             0    98028  47.7379   \n",
       "3            1050            910      1965             0    98136  47.5208   \n",
       "4            1680              0      1987             0    98074  47.6168   \n",
       "...           ...            ...       ...           ...      ...      ...   \n",
       "17994        1802              0      1961             0    98125  47.7205   \n",
       "17995        3420           1060      1902             0    98112  47.6275   \n",
       "17996         940            370      1980             0    98031  47.3958   \n",
       "17997        2320              0      1992             0    98053  47.6304   \n",
       "17998        1130              0      1953             0    98055  47.4514   \n",
       "\n",
       "          long  sqft_living15  sqft_lot15  \n",
       "0     -122.257           1340        5650  \n",
       "1     -122.319           1690        7639  \n",
       "2     -122.233           2720        8062  \n",
       "3     -122.393           1360        5000  \n",
       "4     -122.045           1800        7503  \n",
       "...        ...            ...         ...  \n",
       "17994 -122.323           1810        7332  \n",
       "17995 -122.315           3220        5600  \n",
       "17996 -122.189           1400        7161  \n",
       "17997 -121.988           2610       33305  \n",
       "17998 -122.187           1270       10798  \n",
       "\n",
       "[17999 rows x 21 columns]"
      ]
     },
     "execution_count": 204,
     "metadata": {},
     "output_type": "execute_result"
    }
   ],
   "source": [
    "data=pd.read_csv(\"F:/house_prices_data_training_data.csv\")\n",
    "data"
   ]
  },
  {
   "cell_type": "code",
   "execution_count": null,
   "metadata": {},
   "outputs": [],
   "source": []
  },
  {
   "cell_type": "code",
   "execution_count": 205,
   "metadata": {},
   "outputs": [],
   "source": [
    "x, y= data['sqft_living'], data['price']\n",
    "\n",
    "m = y.size"
   ]
  },
  {
   "cell_type": "code",
   "execution_count": 206,
   "metadata": {},
   "outputs": [
    {
     "data": {
      "text/plain": [
       "Text(0.5, 0, 'Living room size feet measurements')"
      ]
     },
     "execution_count": 206,
     "metadata": {},
     "output_type": "execute_result"
    },
    {
     "data": {
      "image/png": "[encoded data removed]",
      "text/plain": [
       "<Figure size 432x288 with 1 Axes>"
      ]
     },
     "metadata": {
      "needs_background": "light"
     },
     "output_type": "display_data"
    }
   ],
   "source": [
    "plt.plot(x, y, 'ro', ms=10, mec='k')\n",
    "plt.ylabel(' Price')\n",
    "plt.xlabel('Living room size feet measurements')"
   ]
  },
  {
   "cell_type": "code",
   "execution_count": 207,
   "metadata": {},
   "outputs": [
    {
     "data": {
      "text/html": [
       "<div>\n",
       "<style scoped>\n",
       "    .dataframe tbody tr th:only-of-type {\n",
       "        vertical-align: middle;\n",
       "    }\n",
       "\n",
       "    .dataframe tbody tr th {\n",
       "        vertical-align: top;\n",
       "    }\n",
       "\n",
       "    .dataframe thead th {\n",
       "        text-align: right;\n",
       "    }\n",
       "</style>\n",
       "<table border=\"1\" class=\"dataframe\">\n",
       "  <thead>\n",
       "    <tr style=\"text-align: right;\">\n",
       "      <th></th>\n",
       "      <th>bathrooms</th>\n",
       "      <th>bedrooms</th>\n",
       "      <th>condition</th>\n",
       "      <th>date</th>\n",
       "      <th>floors</th>\n",
       "      <th>grade</th>\n",
       "      <th>id</th>\n",
       "      <th>lat</th>\n",
       "      <th>long</th>\n",
       "      <th>price</th>\n",
       "      <th>...</th>\n",
       "      <th>sqft_basement</th>\n",
       "      <th>sqft_living</th>\n",
       "      <th>sqft_living15</th>\n",
       "      <th>sqft_lot</th>\n",
       "      <th>sqft_lot15</th>\n",
       "      <th>view</th>\n",
       "      <th>waterfront</th>\n",
       "      <th>yr_built</th>\n",
       "      <th>yr_renovated</th>\n",
       "      <th>zipcode</th>\n",
       "    </tr>\n",
       "  </thead>\n",
       "  <tbody>\n",
       "    <tr>\n",
       "      <th>0</th>\n",
       "      <td>-1.399361</td>\n",
       "      <td>-0.388600</td>\n",
       "      <td>-0.672411</td>\n",
       "      <td>NaN</td>\n",
       "      <td>-0.849901</td>\n",
       "      <td>-0.506515</td>\n",
       "      <td>0.894683</td>\n",
       "      <td>-0.350970</td>\n",
       "      <td>-0.301063</td>\n",
       "      <td>-0.853907</td>\n",
       "      <td>...</td>\n",
       "      <td>-0.672121</td>\n",
       "      <td>-0.965747</td>\n",
       "      <td>-0.940655</td>\n",
       "      <td>-0.238104</td>\n",
       "      <td>-0.279035</td>\n",
       "      <td>-0.3113</td>\n",
       "      <td>-0.088855</td>\n",
       "      <td>-0.439593</td>\n",
       "      <td>-0.217626</td>\n",
       "      <td>1.846287</td>\n",
       "    </tr>\n",
       "    <tr>\n",
       "      <th>1</th>\n",
       "      <td>0.248341</td>\n",
       "      <td>-0.388600</td>\n",
       "      <td>-0.672411</td>\n",
       "      <td>NaN</td>\n",
       "      <td>1.112180</td>\n",
       "      <td>-0.506515</td>\n",
       "      <td>0.644858</td>\n",
       "      <td>1.151420</td>\n",
       "      <td>-0.746672</td>\n",
       "      <td>0.013517</td>\n",
       "      <td>...</td>\n",
       "      <td>0.217870</td>\n",
       "      <td>0.574003</td>\n",
       "      <td>-0.420740</td>\n",
       "      <td>-0.200605</td>\n",
       "      <td>-0.206317</td>\n",
       "      <td>-0.3113</td>\n",
       "      <td>-0.088855</td>\n",
       "      <td>-0.582755</td>\n",
       "      <td>4.583230</td>\n",
       "      <td>0.867071</td>\n",
       "    </tr>\n",
       "    <tr>\n",
       "      <th>2</th>\n",
       "      <td>-1.399361</td>\n",
       "      <td>-1.459226</td>\n",
       "      <td>-0.672411</td>\n",
       "      <td>NaN</td>\n",
       "      <td>-0.849901</td>\n",
       "      <td>-1.361585</td>\n",
       "      <td>0.371490</td>\n",
       "      <td>1.272441</td>\n",
       "      <td>-0.128569</td>\n",
       "      <td>-0.968887</td>\n",
       "      <td>...</td>\n",
       "      <td>-0.672121</td>\n",
       "      <td>-1.419918</td>\n",
       "      <td>1.109296</td>\n",
       "      <td>-0.135643</td>\n",
       "      <td>-0.190852</td>\n",
       "      <td>-0.3113</td>\n",
       "      <td>-0.088855</td>\n",
       "      <td>-1.226985</td>\n",
       "      <td>-0.217626</td>\n",
       "      <td>-0.925079</td>\n",
       "    </tr>\n",
       "    <tr>\n",
       "      <th>3</th>\n",
       "      <td>1.236962</td>\n",
       "      <td>0.682027</td>\n",
       "      <td>2.325912</td>\n",
       "      <td>NaN</td>\n",
       "      <td>-0.849901</td>\n",
       "      <td>-0.506515</td>\n",
       "      <td>-0.726836</td>\n",
       "      <td>-0.282224</td>\n",
       "      <td>-1.278529</td>\n",
       "      <td>0.194631</td>\n",
       "      <td>...</td>\n",
       "      <td>1.352608</td>\n",
       "      <td>-0.101715</td>\n",
       "      <td>-0.910946</td>\n",
       "      <td>-0.253414</td>\n",
       "      <td>-0.302799</td>\n",
       "      <td>-0.3113</td>\n",
       "      <td>-0.088855</td>\n",
       "      <td>-0.081687</td>\n",
       "      <td>-0.217626</td>\n",
       "      <td>1.070305</td>\n",
       "    </tr>\n",
       "    <tr>\n",
       "      <th>4</th>\n",
       "      <td>-0.081200</td>\n",
       "      <td>-0.388600</td>\n",
       "      <td>-0.672411</td>\n",
       "      <td>NaN</td>\n",
       "      <td>-0.849901</td>\n",
       "      <td>0.348555</td>\n",
       "      <td>-0.912947</td>\n",
       "      <td>0.405238</td>\n",
       "      <td>1.222634</td>\n",
       "      <td>-0.063319</td>\n",
       "      <td>...</td>\n",
       "      <td>-0.672121</td>\n",
       "      <td>-0.411880</td>\n",
       "      <td>-0.257338</td>\n",
       "      <td>-0.180867</td>\n",
       "      <td>-0.211289</td>\n",
       "      <td>-0.3113</td>\n",
       "      <td>-0.088855</td>\n",
       "      <td>0.705706</td>\n",
       "      <td>-0.217626</td>\n",
       "      <td>-0.075193</td>\n",
       "    </tr>\n",
       "    <tr>\n",
       "      <th>...</th>\n",
       "      <td>...</td>\n",
       "      <td>...</td>\n",
       "      <td>...</td>\n",
       "      <td>...</td>\n",
       "      <td>...</td>\n",
       "      <td>...</td>\n",
       "      <td>...</td>\n",
       "      <td>...</td>\n",
       "      <td>...</td>\n",
       "      <td>...</td>\n",
       "      <td>...</td>\n",
       "      <td>...</td>\n",
       "      <td>...</td>\n",
       "      <td>...</td>\n",
       "      <td>...</td>\n",
       "      <td>...</td>\n",
       "      <td>...</td>\n",
       "      <td>...</td>\n",
       "      <td>...</td>\n",
       "      <td>...</td>\n",
       "      <td>...</td>\n",
       "    </tr>\n",
       "    <tr>\n",
       "      <th>17994</th>\n",
       "      <td>-1.399361</td>\n",
       "      <td>-1.459226</td>\n",
       "      <td>-0.672411</td>\n",
       "      <td>NaN</td>\n",
       "      <td>-0.849901</td>\n",
       "      <td>-0.506515</td>\n",
       "      <td>0.644858</td>\n",
       "      <td>1.147839</td>\n",
       "      <td>-0.775421</td>\n",
       "      <td>-0.584707</td>\n",
       "      <td>...</td>\n",
       "      <td>-0.672121</td>\n",
       "      <td>-0.276737</td>\n",
       "      <td>-0.242484</td>\n",
       "      <td>-0.106789</td>\n",
       "      <td>-0.217541</td>\n",
       "      <td>-0.3113</td>\n",
       "      <td>-0.088855</td>\n",
       "      <td>-0.224849</td>\n",
       "      <td>-0.217626</td>\n",
       "      <td>0.867071</td>\n",
       "    </tr>\n",
       "    <tr>\n",
       "      <th>17995</th>\n",
       "      <td>1.236962</td>\n",
       "      <td>1.752654</td>\n",
       "      <td>2.325912</td>\n",
       "      <td>NaN</td>\n",
       "      <td>2.093221</td>\n",
       "      <td>3.768836</td>\n",
       "      <td>-1.125361</td>\n",
       "      <td>0.481861</td>\n",
       "      <td>-0.717923</td>\n",
       "      <td>3.998016</td>\n",
       "      <td>...</td>\n",
       "      <td>1.686354</td>\n",
       "      <td>2.689774</td>\n",
       "      <td>1.852031</td>\n",
       "      <td>-0.253414</td>\n",
       "      <td>-0.280863</td>\n",
       "      <td>-0.3113</td>\n",
       "      <td>-0.088855</td>\n",
       "      <td>-2.336494</td>\n",
       "      <td>-0.217626</td>\n",
       "      <td>0.626886</td>\n",
       "    </tr>\n",
       "    <tr>\n",
       "      <th>17996</th>\n",
       "      <td>-1.399361</td>\n",
       "      <td>-1.459226</td>\n",
       "      <td>0.826750</td>\n",
       "      <td>NaN</td>\n",
       "      <td>-0.849901</td>\n",
       "      <td>-0.506515</td>\n",
       "      <td>-0.822892</td>\n",
       "      <td>-1.177355</td>\n",
       "      <td>0.187670</td>\n",
       "      <td>-0.768565</td>\n",
       "      <td>...</td>\n",
       "      <td>0.151120</td>\n",
       "      <td>-0.821741</td>\n",
       "      <td>-0.851527</td>\n",
       "      <td>-0.203291</td>\n",
       "      <td>-0.223793</td>\n",
       "      <td>-0.3113</td>\n",
       "      <td>-0.088855</td>\n",
       "      <td>0.455172</td>\n",
       "      <td>-0.217626</td>\n",
       "      <td>-0.869652</td>\n",
       "    </tr>\n",
       "    <tr>\n",
       "      <th>17997</th>\n",
       "      <td>0.577881</td>\n",
       "      <td>-0.388600</td>\n",
       "      <td>-0.672411</td>\n",
       "      <td>NaN</td>\n",
       "      <td>1.112180</td>\n",
       "      <td>1.203625</td>\n",
       "      <td>-1.524025</td>\n",
       "      <td>0.502628</td>\n",
       "      <td>1.632307</td>\n",
       "      <td>0.265978</td>\n",
       "      <td>...</td>\n",
       "      <td>-0.672121</td>\n",
       "      <td>0.297069</td>\n",
       "      <td>0.945894</td>\n",
       "      <td>0.400735</td>\n",
       "      <td>0.732028</td>\n",
       "      <td>-0.3113</td>\n",
       "      <td>-0.088855</td>\n",
       "      <td>0.884659</td>\n",
       "      <td>-0.217626</td>\n",
       "      <td>-0.463185</td>\n",
       "    </tr>\n",
       "    <tr>\n",
       "      <th>17998</th>\n",
       "      <td>-1.399361</td>\n",
       "      <td>-1.459226</td>\n",
       "      <td>0.826750</td>\n",
       "      <td>NaN</td>\n",
       "      <td>-0.849901</td>\n",
       "      <td>-0.506515</td>\n",
       "      <td>-0.585227</td>\n",
       "      <td>-0.779201</td>\n",
       "      <td>0.202045</td>\n",
       "      <td>-0.870098</td>\n",
       "      <td>...</td>\n",
       "      <td>-0.672121</td>\n",
       "      <td>-1.021134</td>\n",
       "      <td>-1.044638</td>\n",
       "      <td>-0.076757</td>\n",
       "      <td>-0.090825</td>\n",
       "      <td>-0.3113</td>\n",
       "      <td>-0.088855</td>\n",
       "      <td>-0.511174</td>\n",
       "      <td>-0.217626</td>\n",
       "      <td>-0.426233</td>\n",
       "    </tr>\n",
       "  </tbody>\n",
       "</table>\n",
       "<p>17999 rows × 21 columns</p>\n",
       "</div>"
      ],
      "text/plain": [
       "       bathrooms  bedrooms  condition date    floors     grade        id  \\\n",
       "0      -1.399361 -0.388600  -0.672411  NaN -0.849901 -0.506515  0.894683   \n",
       "1       0.248341 -0.388600  -0.672411  NaN  1.112180 -0.506515  0.644858   \n",
       "2      -1.399361 -1.459226  -0.672411  NaN -0.849901 -1.361585  0.371490   \n",
       "3       1.236962  0.682027   2.325912  NaN -0.849901 -0.506515 -0.726836   \n",
       "4      -0.081200 -0.388600  -0.672411  NaN -0.849901  0.348555 -0.912947   \n",
       "...          ...       ...        ...  ...       ...       ...       ...   \n",
       "17994  -1.399361 -1.459226  -0.672411  NaN -0.849901 -0.506515  0.644858   \n",
       "17995   1.236962  1.752654   2.325912  NaN  2.093221  3.768836 -1.125361   \n",
       "17996  -1.399361 -1.459226   0.826750  NaN -0.849901 -0.506515 -0.822892   \n",
       "17997   0.577881 -0.388600  -0.672411  NaN  1.112180  1.203625 -1.524025   \n",
       "17998  -1.399361 -1.459226   0.826750  NaN -0.849901 -0.506515 -0.585227   \n",
       "\n",
       "            lat      long     price  ...  sqft_basement  sqft_living  \\\n",
       "0     -0.350970 -0.301063 -0.853907  ...      -0.672121    -0.965747   \n",
       "1      1.151420 -0.746672  0.013517  ...       0.217870     0.574003   \n",
       "2      1.272441 -0.128569 -0.968887  ...      -0.672121    -1.419918   \n",
       "3     -0.282224 -1.278529  0.194631  ...       1.352608    -0.101715   \n",
       "4      0.405238  1.222634 -0.063319  ...      -0.672121    -0.411880   \n",
       "...         ...       ...       ...  ...            ...          ...   \n",
       "17994  1.147839 -0.775421 -0.584707  ...      -0.672121    -0.276737   \n",
       "17995  0.481861 -0.717923  3.998016  ...       1.686354     2.689774   \n",
       "17996 -1.177355  0.187670 -0.768565  ...       0.151120    -0.821741   \n",
       "17997  0.502628  1.632307  0.265978  ...      -0.672121     0.297069   \n",
       "17998 -0.779201  0.202045 -0.870098  ...      -0.672121    -1.021134   \n",
       "\n",
       "       sqft_living15  sqft_lot  sqft_lot15    view  waterfront  yr_built  \\\n",
       "0          -0.940655 -0.238104   -0.279035 -0.3113   -0.088855 -0.439593   \n",
       "1          -0.420740 -0.200605   -0.206317 -0.3113   -0.088855 -0.582755   \n",
       "2           1.109296 -0.135643   -0.190852 -0.3113   -0.088855 -1.226985   \n",
       "3          -0.910946 -0.253414   -0.302799 -0.3113   -0.088855 -0.081687   \n",
       "4          -0.257338 -0.180867   -0.211289 -0.3113   -0.088855  0.705706   \n",
       "...              ...       ...         ...     ...         ...       ...   \n",
       "17994      -0.242484 -0.106789   -0.217541 -0.3113   -0.088855 -0.224849   \n",
       "17995       1.852031 -0.253414   -0.280863 -0.3113   -0.088855 -2.336494   \n",
       "17996      -0.851527 -0.203291   -0.223793 -0.3113   -0.088855  0.455172   \n",
       "17997       0.945894  0.400735    0.732028 -0.3113   -0.088855  0.884659   \n",
       "17998      -1.044638 -0.076757   -0.090825 -0.3113   -0.088855 -0.511174   \n",
       "\n",
       "       yr_renovated   zipcode  \n",
       "0         -0.217626  1.846287  \n",
       "1          4.583230  0.867071  \n",
       "2         -0.217626 -0.925079  \n",
       "3         -0.217626  1.070305  \n",
       "4         -0.217626 -0.075193  \n",
       "...             ...       ...  \n",
       "17994     -0.217626  0.867071  \n",
       "17995     -0.217626  0.626886  \n",
       "17996     -0.217626 -0.869652  \n",
       "17997     -0.217626 -0.463185  \n",
       "17998     -0.217626 -0.426233  \n",
       "\n",
       "[17999 rows x 21 columns]"
      ]
     },
     "execution_count": 207,
     "metadata": {},
     "output_type": "execute_result"
    }
   ],
   "source": [
    "normaldata=data\n",
    "normaldata=(normaldata - normaldata.mean()) / normaldata.std()\n",
    "\n",
    "normaldata"
   ]
  },
  {
   "cell_type": "code",
   "execution_count": 208,
   "metadata": {},
   "outputs": [
    {
     "data": {
      "text/plain": [
       "Index(['bathrooms', 'bedrooms', 'condition', 'date', 'floors', 'grade', 'id',\n",
       "       'lat', 'long', 'price', 'sqft_above', 'sqft_basement', 'sqft_living',\n",
       "       'sqft_living15', 'sqft_lot', 'sqft_lot15', 'view', 'waterfront',\n",
       "       'yr_built', 'yr_renovated', 'zipcode'],\n",
       "      dtype='object')"
      ]
     },
     "execution_count": 208,
     "metadata": {},
     "output_type": "execute_result"
    }
   ],
   "source": [
    "normaldata.columns"
   ]
  },
  {
   "cell_type": "code",
   "execution_count": 209,
   "metadata": {},
   "outputs": [
    {
     "data": {
      "text/plain": [
       "array([[0.5778812032747966, -0.38859959644900627, -0.6724114268508599,\n",
       "        ..., 0.848868695994615, -0.21762638412193264,\n",
       "        -0.3708058234025056],\n",
       "       [0.5778812032747966, 0.6820270890684685, 0.826750380641848, ...,\n",
       "        0.3120098624478637, -0.21762638412193264, -0.4816604814041492],\n",
       "       [1.8960428200720678, 0.6820270890684685, -0.6724114268508599, ...,\n",
       "        1.0994028183164324, -0.21762638412193264, -0.05671762573118227],\n",
       "       ...,\n",
       "       [0.24834079907547882, -0.38859959644900627, -0.6724114268508599,\n",
       "        ..., 0.3120098624478637, -0.21762638412193264,\n",
       "        1.4213444809573983],\n",
       "       [-0.4107400093231568, -0.38859959644900627, 0.826750380641848,\n",
       "        ..., 0.06147574012604645, -0.21762638412193264,\n",
       "        -0.4816604814041492],\n",
       "       [0.5778812032747966, -0.38859959644900627, -0.6724114268508599,\n",
       "        ..., -0.26063956000200433, -0.21762638412193264,\n",
       "        -0.832700231742687]], dtype=object)"
      ]
     },
     "execution_count": 209,
     "metadata": {},
     "output_type": "execute_result"
    }
   ],
   "source": [
    "train, validate, test = np.split(normaldata.sample(frac=1), [int(.6*len(normaldata)), int(.8*len(normaldata))])\n",
    "train = train.to_numpy()\n",
    "validate = validate.to_numpy()\n",
    "test = test.to_numpy()\n",
    "train\n"
   ]
  },
  {
   "cell_type": "code",
   "execution_count": 319,
   "metadata": {},
   "outputs": [
    {
     "data": {
      "text/plain": [
       "array([[0.5778812032747966],\n",
       "       [0.5778812032747966],\n",
       "       [1.8960428200720678],\n",
       "       ...,\n",
       "       [0.24834079907547882],\n",
       "       [-0.4107400093231568],\n",
       "       [0.5778812032747966]], dtype=object)"
      ]
     },
     "execution_count": 319,
     "metadata": {},
     "output_type": "execute_result"
    }
   ],
   "source": [
    "X_train = train[:, [0,1]]\n",
    "xtrain= train [:,[0]]\n",
    "X_train\n"
   ]
  },
  {
   "cell_type": "code",
   "execution_count": 211,
   "metadata": {},
   "outputs": [],
   "source": [
    "y_train = train[:, 9]\n",
    "y_train\n",
    "\n",
    "m = y_train.size"
   ]
  },
  {
   "cell_type": "code",
   "execution_count": 212,
   "metadata": {},
   "outputs": [
    {
     "data": {
      "text/plain": [
       "array([[1.0, 0.5778812032747966, -0.38859959644900627],\n",
       "       [1.0, 0.5778812032747966, 0.6820270890684685],\n",
       "       [1.0, 1.8960428200720678, 0.6820270890684685],\n",
       "       ...,\n",
       "       [1.0, 0.24834079907547882, -0.38859959644900627],\n",
       "       [1.0, -0.4107400093231568, -0.38859959644900627],\n",
       "       [1.0, 0.5778812032747966, -0.38859959644900627]], dtype=object)"
      ]
     },
     "execution_count": 212,
     "metadata": {},
     "output_type": "execute_result"
    }
   ],
   "source": [
    "X_train = np.concatenate([np.ones((m,1)), X_train], axis =1)\n",
    "X_train"
   ]
  },
  {
   "cell_type": "code",
   "execution_count": 213,
   "metadata": {},
   "outputs": [
    {
     "data": {
      "text/plain": [
       "array([[-0.4107400093231568, 0.6820270890684685],\n",
       "       [-0.08119960512383899, -1.4592262819664812],\n",
       "       [0.24834079907547882, -0.38859959644900627],\n",
       "       ...,\n",
       "       [0.5778812032747966, 0.6820270890684685],\n",
       "       [1.2369620116734323, 0.6820270890684685],\n",
       "       [-0.08119960512383899, 0.6820270890684685]], dtype=object)"
      ]
     },
     "execution_count": 213,
     "metadata": {},
     "output_type": "execute_result"
    }
   ],
   "source": [
    "X_validate = validate[:, [0,1]]\n",
    "X_validate"
   ]
  },
  {
   "cell_type": "code",
   "execution_count": 214,
   "metadata": {},
   "outputs": [],
   "source": [
    "y_validate = validate[:, 9]\n",
    "y_validate\n",
    "\n",
    "mm = y_validate.size"
   ]
  },
  {
   "cell_type": "code",
   "execution_count": 215,
   "metadata": {},
   "outputs": [
    {
     "data": {
      "text/plain": [
       "array([[1.0, -0.4107400093231568, 0.6820270890684685],\n",
       "       [1.0, -0.08119960512383899, -1.4592262819664812],\n",
       "       [1.0, 0.24834079907547882, -0.38859959644900627],\n",
       "       ...,\n",
       "       [1.0, 0.5778812032747966, 0.6820270890684685],\n",
       "       [1.0, 1.2369620116734323, 0.6820270890684685],\n",
       "       [1.0, -0.08119960512383899, 0.6820270890684685]], dtype=object)"
      ]
     },
     "execution_count": 215,
     "metadata": {},
     "output_type": "execute_result"
    }
   ],
   "source": [
    "X_validate = np.concatenate([np.ones((mm,1)), X_validate], axis =1)\n",
    "X_validate"
   ]
  },
  {
   "cell_type": "code",
   "execution_count": 216,
   "metadata": {},
   "outputs": [
    {
     "data": {
      "text/plain": [
       "array([[1.56650241587275, -0.38859959644900627],\n",
       "       [0.5778812032747966, -0.38859959644900627],\n",
       "       [0.5778812032747966, -0.38859959644900627],\n",
       "       ...,\n",
       "       [1.56650241587275, -0.38859959644900627],\n",
       "       [-1.3993612219211102, -1.4592262819664812],\n",
       "       [-0.4107400093231568, -0.38859959644900627]], dtype=object)"
      ]
     },
     "execution_count": 216,
     "metadata": {},
     "output_type": "execute_result"
    }
   ],
   "source": [
    "X_test = test[:, [0,1]]\n",
    "X_test"
   ]
  },
  {
   "cell_type": "code",
   "execution_count": 217,
   "metadata": {},
   "outputs": [],
   "source": [
    "y_test = test[:, 9]\n",
    "y_test\n",
    "\n",
    "mmm = y_test.size"
   ]
  },
  {
   "cell_type": "code",
   "execution_count": 218,
   "metadata": {},
   "outputs": [
    {
     "data": {
      "text/plain": [
       "array([[1.0, 1.56650241587275, -0.38859959644900627],\n",
       "       [1.0, 0.5778812032747966, -0.38859959644900627],\n",
       "       [1.0, 0.5778812032747966, -0.38859959644900627],\n",
       "       ...,\n",
       "       [1.0, 1.56650241587275, -0.38859959644900627],\n",
       "       [1.0, -1.3993612219211102, -1.4592262819664812],\n",
       "       [1.0, -0.4107400093231568, -0.38859959644900627]], dtype=object)"
      ]
     },
     "execution_count": 218,
     "metadata": {},
     "output_type": "execute_result"
    }
   ],
   "source": [
    "X_test = np.concatenate([np.ones((mmm,1)), X_test], axis =1)\n",
    "X_test"
   ]
  },
  {
   "cell_type": "code",
   "execution_count": 219,
   "metadata": {},
   "outputs": [],
   "source": [
    "def computeCostMulti(X_train, y_train, theta):\n",
    "    m = y_train.shape[0]\n",
    "    J=0\n",
    "    \n",
    "    hTheta = np.dot(X_train, theta)\n",
    "    #J = (1/(2 * m)) * np.sum(np.square(hTheta - y_train))\n",
    "    J= (1/(2*m)) * np.dot((np.dot(np.power(X_train,1),theta)-y_train),(np.dot(np.power(X_train,1),theta)-y_train))\n",
    "    return J"
   ]
  },
  {
   "cell_type": "code",
   "execution_count": 220,
   "metadata": {},
   "outputs": [],
   "source": [
    "def gradientDescentMulti(X_train, y_train, theta, alpha, num_iters):\n",
    "    m = y.shape[0] \n",
    "    theta = theta.copy()\n",
    "    \n",
    "    J_history = []\n",
    "  \n",
    "    \n",
    "    for i in range(num_iters):\n",
    "        \n",
    "        hypothesis = np.dot(X_train, theta)\n",
    "        theta = theta - ((alpha/m)*(np.dot(X_train.T,hypothesis - y_train)))\n",
    "\n",
    "        J_history.append(computeCostMulti(X_train, y_train, theta))\n",
    "    \n",
    "    return theta, J_history"
   ]
  },
  {
   "cell_type": "code",
   "execution_count": 234,
   "metadata": {},
   "outputs": [
    {
     "name": "stdout",
     "output_type": "stream",
     "text": [
      "theta computed from gradient descent: [-0.0009511247625993333 0.21534751639916358 0.1029273482562676]\n"
     ]
    },
    {
     "data": {
      "image/png": "[encoded data removed]",
      "text/plain": [
       "<Figure size 432x288 with 1 Axes>"
      ]
     },
     "metadata": {
      "needs_background": "light"
     },
     "output_type": "display_data"
    }
   ],
   "source": [
    "alpha = 0.01\n",
    "num_iters = 100\n",
    "\n",
    "theta = np.zeros(3)\n",
    "theta, J_history = gradientDescentMulti(X_train, y_train, theta, alpha, num_iters)\n",
    "\n",
    "# Plot the convergence graph\n",
    "pyplot.plot(np.arange(len(J_history)), J_history, lw=2)\n",
    "pyplot.xlabel('Number of iterations')\n",
    "pyplot.ylabel('Cost J')\n",
    "\n",
    "\n",
    "print('theta computed from gradient descent: {:s}'.format(str(theta)))"
   ]
  },
  {
   "cell_type": "code",
   "execution_count": 228,
   "metadata": {},
   "outputs": [],
   "source": [
    "def computeCostMulti2(X_train, y_train, theta):\n",
    "    m = y_train.shape[0]\n",
    "    J=0\n",
    "    \n",
    "    hTheta = np.dot(np.square(X_train), theta)\n",
    "    #J = (1/(2 * m)) * np.sum(np.square(hTheta - y_train))\n",
    "    J= (1/(2*m)) * np.dot((np.dot(np.power(X_train,2),theta)-y_train),(np.dot(np.power(X_train,2),theta)-y_train))\n",
    "    return J"
   ]
  },
  {
   "cell_type": "code",
   "execution_count": 229,
   "metadata": {},
   "outputs": [],
   "source": [
    "def gradientDescentMulti2(X_train, y_train, theta, alpha, num_iters):\n",
    "    m = y.shape[0] \n",
    "    theta = theta.copy()\n",
    "    \n",
    "    J_history = []\n",
    "  \n",
    "    \n",
    "    for i in range(num_iters):\n",
    "        \n",
    "        hypothesis = np.dot(np.square(X_train), theta)\n",
    "        theta = theta - ((alpha/m)*(np.dot(np.square(X_train).T,hypothesis - y_train)))\n",
    "\n",
    "        J_history.append(computeCostMulti2(X_train, y_train, theta))\n",
    "    \n",
    "    return theta, J_history"
   ]
  },
  {
   "cell_type": "code",
   "execution_count": 230,
   "metadata": {},
   "outputs": [
    {
     "name": "stdout",
     "output_type": "stream",
     "text": [
      "theta computed from gradient descent: [-0.05053982346433354 0.15312879765313367 -0.0006858583723469697]\n"
     ]
    },
    {
     "data": {
      "image/png": "[encoded data removed]",
      "text/plain": [
       "<Figure size 432x288 with 1 Axes>"
      ]
     },
     "metadata": {
      "needs_background": "light"
     },
     "output_type": "display_data"
    }
   ],
   "source": [
    "alpha = 0.01\n",
    "num_iters = 100\n",
    "\n",
    "theta = np.zeros(3)\n",
    "theta, J_history = gradientDescentMulti2(X_train, y_train, theta, alpha, num_iters)\n",
    "\n",
    "# Plot the convergence graph\n",
    "pyplot.plot(np.arange(len(J_history)), J_history, lw=2)\n",
    "pyplot.xlabel('Number of iterations')\n",
    "pyplot.ylabel('Cost J')\n",
    "\n",
    "\n",
    "print('theta computed from gradient descent: {:s}'.format(str(theta)))"
   ]
  },
  {
   "cell_type": "code",
   "execution_count": 231,
   "metadata": {},
   "outputs": [],
   "source": [
    "def computeCostMulti3(X_train, y_train, theta):\n",
    "    m = y_train.shape[0]\n",
    "    J=0\n",
    "    \n",
    "    hTheta = np.dot(np.power(X_train,3), theta)\n",
    "    J = (1/(2 * m)) * np.sum(np.square(hTheta - y_train))\n",
    "    #J= (1/(2*m)) * np.dot((np.dot(np.power(X_train,3),theta)-y_train),(np.dot(np.power(X_train,3),theta)-y_train))\n",
    "    return J"
   ]
  },
  {
   "cell_type": "code",
   "execution_count": 232,
   "metadata": {},
   "outputs": [],
   "source": [
    "def gradientDescentMulti3(X_train, y_train, theta, alpha, num_iters):\n",
    "    m = y.shape[0] \n",
    "    theta = theta.copy()\n",
    "    \n",
    "    J_history = []\n",
    "  \n",
    "    \n",
    "    for i in range(num_iters):\n",
    "        \n",
    "        hypothesis = np.dot(np.power(X_train,3), theta)\n",
    "        theta = theta - ((alpha/m)*(np.dot(np.power(X_train,3).T,hypothesis - y_train)))\n",
    "\n",
    "        J_history.append(computeCostMulti3(X_train, y_train, theta))\n",
    "    \n",
    "    return theta, J_history"
   ]
  },
  {
   "cell_type": "code",
   "execution_count": 233,
   "metadata": {},
   "outputs": [
    {
     "name": "stdout",
     "output_type": "stream",
     "text": [
      "theta computed from gradient descent: [-0.0009511247625993333 0.21534751639916358 0.1029273482562676]\n"
     ]
    },
    {
     "data": {
      "image/png": "[encoded data removed]",
      "text/plain": [
       "<Figure size 432x288 with 1 Axes>"
      ]
     },
     "metadata": {
      "needs_background": "light"
     },
     "output_type": "display_data"
    }
   ],
   "source": [
    "alpha = 0.01\n",
    "num_iters = 100\n",
    "\n",
    "theta = np.zeros(3)\n",
    "theta, J_histori = gradientDescentMulti(X_train, y_train, theta, alpha, num_iters)\n",
    "\n",
    "# Plot the convergence graph\n",
    "pyplot.plot(np.arange(len(J_history)), J_history, lw=2)\n",
    "pyplot.xlabel('Number of iterations')\n",
    "pyplot.ylabel('Cost J')\n",
    "\n",
    "\n",
    "print('theta computed from gradient descent: {:s}'.format(str(theta)))"
   ]
  },
  {
   "cell_type": "code",
   "execution_count": 199,
   "metadata": {},
   "outputs": [],
   "source": [
    "def computeCostMulti4(X_train, y_train, theta):\n",
    "    m = y_train.shape[0]\n",
    "    J=0\n",
    "    \n",
    "    hTheta = np.dot(np.power(X_train,4), theta)\n",
    "    #J = (1/(2 * m)) * np.sum(np.square(hTheta - y_train))\n",
    "    J= (1/(2*m)) * np.dot((np.dot(np.power(X_train,4),theta)-y_train),(np.dot(np.power(X_train,4),theta)-y_train))\n",
    "    return J"
   ]
  },
  {
   "cell_type": "code",
   "execution_count": 200,
   "metadata": {},
   "outputs": [],
   "source": [
    "def gradientDescentMulti4(X_train, y_train, theta, alpha, num_iters):\n",
    "    m = y.shape[0] \n",
    "    theta = theta.copy()\n",
    "    \n",
    "    J_history = []\n",
    "  \n",
    "    \n",
    "    for i in range(num_iters):\n",
    "        \n",
    "        hypothesis = np.dot(np.power(X_train,4), theta)\n",
    "        theta = theta - ((alpha/m)*(np.dot(np.power(X_train,4).T,hypothesis - y_train)))\n",
    "\n",
    "        J_history.append(computeCostMulti4(X_train, y_train, theta))\n",
    "    \n",
    "    return theta, J_history"
   ]
  },
  {
   "cell_type": "code",
   "execution_count": 235,
   "metadata": {},
   "outputs": [
    {
     "name": "stderr",
     "output_type": "stream",
     "text": [
      "<ipython-input-199-ee5717672c86>:6: RuntimeWarning: overflow encountered in square\n",
      "  J = (1/(2 * m)) * np.sum(np.square(hTheta - y_train))\n",
      "c:\\users\\hatem\\appdata\\local\\programs\\python\\python38-32\\lib\\site-packages\\numpy\\core\\fromnumeric.py:87: RuntimeWarning: overflow encountered in reduce\n",
      "  return ufunc.reduce(obj, axis, dtype, out, **passkwargs)\n",
      "<ipython-input-200-1631853dc07a>:11: RuntimeWarning: invalid value encountered in subtract\n",
      "  theta = theta - ((alpha/m)*(np.dot(np.power(X_train,4).T,hypothesis - y_train)))\n"
     ]
    },
    {
     "name": "stdout",
     "output_type": "stream",
     "text": [
      "theta computed from gradient descent: [nan nan nan]\n"
     ]
    },
    {
     "data": {
      "image/png": "[encoded data removed]",
      "text/plain": [
       "<Figure size 432x288 with 1 Axes>"
      ]
     },
     "metadata": {
      "needs_background": "light"
     },
     "output_type": "display_data"
    }
   ],
   "source": [
    "alpha = 0.01\n",
    "num_iters = 100\n",
    "\n",
    "theta = np.zeros(3)\n",
    "theta, J_historia = gradientDescentMulti4(X_train, y_train, theta, alpha, num_iters)\n",
    "\n",
    "# Plot the convergence graph\n",
    "pyplot.plot(np.arange(len(J_history)), J_history, lw=2)\n",
    "pyplot.xlabel('Number of iterations')\n",
    "pyplot.ylabel('Cost J')\n",
    "\n",
    "\n",
    "print('theta computed from gradient descent: {:s}'.format(str(theta)))"
   ]
  },
  {
   "cell_type": "code",
   "execution_count": null,
   "metadata": {},
   "outputs": [],
   "source": [
    "alpha = 0.04\n",
    "num_iters = 100\n",
    "\n",
    "theta = np.zeros(3)\n",
    "theta, J_historia = gradientDescentMulti3(X_train, y_train, theta, alpha, num_iters)\n",
    "\n",
    "# Plot the convergence graph\n",
    "pyplot.plot(np.arange(len(J_history)), J_history, lw=2)\n",
    "pyplot.xlabel('Number of iterations')\n",
    "pyplot.ylabel('Cost J')\n",
    "\n",
    "\n",
    "print('theta computed from gradient descent: {:s}'.format(str(theta)))"
   ]
  },
  {
   "cell_type": "code",
   "execution_count": 244,
   "metadata": {},
   "outputs": [
    {
     "name": "stdout",
     "output_type": "stream",
     "text": [
      "theta computed from gradient descent: [-0.007110758670068342 0.3876805593163346 0.13787063200652946]\n"
     ]
    },
    {
     "data": {
      "image/png": "[encoded data removed]",
      "text/plain": [
       "<Figure size 432x288 with 1 Axes>"
      ]
     },
     "metadata": {
      "needs_background": "light"
     },
     "output_type": "display_data"
    }
   ],
   "source": [
    "alpha = 0.1\n",
    "num_iters = 100\n",
    "\n",
    "theta = np.zeros(3)\n",
    "theta, J_history = gradientDescentMulti(X_validate, y_validate, theta, alpha, num_iters)\n",
    "\n",
    "# Plot the convergence graph\n",
    "pyplot.plot(np.arange(len(J_history)), J_history, lw=2)\n",
    "pyplot.xlabel('Number of iterations')\n",
    "pyplot.ylabel('Cost J')\n",
    "\n",
    "\n",
    "print('theta computed from gradient descent: {:s}'.format(str(theta)))"
   ]
  },
  {
   "cell_type": "code",
   "execution_count": 245,
   "metadata": {},
   "outputs": [
    {
     "name": "stdout",
     "output_type": "stream",
     "text": [
      "theta computed from gradient descent: [-0.15086500160736255 0.20411016170044877 -0.01853524356216298]\n"
     ]
    },
    {
     "data": {
      "image/png": "[encoded data removed]",
      "text/plain": [
       "<Figure size 432x288 with 1 Axes>"
      ]
     },
     "metadata": {
      "needs_background": "light"
     },
     "output_type": "display_data"
    }
   ],
   "source": [
    "alpha = 0.1\n",
    "num_iters = 100\n",
    "\n",
    "theta = np.zeros(3)\n",
    "theta, J_history = gradientDescentMulti2(X_validate, y_validate, theta, alpha, num_iters)\n",
    "\n",
    "# Plot the convergence graph\n",
    "pyplot.plot(np.arange(len(J_history)), J_history, lw=2)\n",
    "pyplot.xlabel('Number of iterations')\n",
    "pyplot.ylabel('Cost J')\n",
    "\n",
    "\n",
    "print('theta computed from gradient descent: {:s}'.format(str(theta)))"
   ]
  },
  {
   "cell_type": "code",
   "execution_count": 246,
   "metadata": {},
   "outputs": [
    {
     "name": "stdout",
     "output_type": "stream",
     "text": [
      "theta computed from gradient descent: [-0.04569470983292006 0.0921567983101148 0.01738143961581422]\n"
     ]
    },
    {
     "data": {
      "image/png": "[encoded data removed]",
      "text/plain": [
       "<Figure size 432x288 with 1 Axes>"
      ]
     },
     "metadata": {
      "needs_background": "light"
     },
     "output_type": "display_data"
    }
   ],
   "source": [
    "alpha = 0.1\n",
    "num_iters = 100\n",
    "\n",
    "theta = np.zeros(3)\n",
    "theta, J_history = gradientDescentMulti3(X_validate, y_validate, theta, alpha, num_iters)\n",
    "\n",
    "# Plot the convergence graph\n",
    "pyplot.plot(np.arange(len(J_history)), J_history, lw=2)\n",
    "pyplot.xlabel('Number of iterations')\n",
    "pyplot.ylabel('Cost J')\n",
    "\n",
    "\n",
    "print('theta computed from gradient descent: {:s}'.format(str(theta)))"
   ]
  },
  {
   "cell_type": "code",
   "execution_count": 249,
   "metadata": {},
   "outputs": [
    {
     "name": "stdout",
     "output_type": "stream",
     "text": [
      "theta computed from gradient descent: [-0.01425317860556602 0.020671985606185706 -0.001060339532876487]\n"
     ]
    },
    {
     "data": {
      "image/png": "[encoded data removed]",
      "text/plain": [
       "<Figure size 432x288 with 1 Axes>"
      ]
     },
     "metadata": {
      "needs_background": "light"
     },
     "output_type": "display_data"
    }
   ],
   "source": [
    "alpha = 0.01\n",
    "num_iters = 100\n",
    "\n",
    "theta = np.zeros(3)\n",
    "theta, J_history = gradientDescentMulti4(X_validate, y_validate, theta, alpha, num_iters)\n",
    "\n",
    "# Plot the convergence graph\n",
    "pyplot.plot(np.arange(len(J_history)), J_history, lw=2)\n",
    "pyplot.xlabel('Number of iterations')\n",
    "pyplot.ylabel('Cost J')\n",
    "\n",
    "\n",
    "print('theta computed from gradient descent: {:s}'.format(str(theta)))"
   ]
  },
  {
   "cell_type": "code",
   "execution_count": 255,
   "metadata": {},
   "outputs": [
    {
     "name": "stdout",
     "output_type": "stream",
     "text": [
      "theta computed from gradient descent: [0.002938830470819203 0.10193583884060478 0.05152085867375287]\n"
     ]
    },
    {
     "data": {
      "image/png": "[encoded data removed]",
      "text/plain": [
       "<Figure size 432x288 with 1 Axes>"
      ]
     },
     "metadata": {
      "needs_background": "light"
     },
     "output_type": "display_data"
    }
   ],
   "source": [
    "alpha = 0.01\n",
    "num_iters = 100\n",
    "\n",
    "theta = np.zeros(3)\n",
    "theta, J_history = gradientDescentMulti(X_test, y_test, theta, alpha, num_iters)\n",
    "\n",
    "# Plot the convergence graph\n",
    "pyplot.plot(np.arange(len(J_history)), J_history, lw=2)\n",
    "pyplot.xlabel('Number of iterations')\n",
    "pyplot.ylabel('Cost J')\n",
    "\n",
    "\n",
    "print('theta computed from gradient descent: {:s}'.format(str(theta)))"
   ]
  },
  {
   "cell_type": "code",
   "execution_count": 252,
   "metadata": {},
   "outputs": [
    {
     "name": "stdout",
     "output_type": "stream",
     "text": [
      "theta computed from gradient descent: [-0.01240634342349132 0.12698084354986425 0.0070100243507030145]\n"
     ]
    },
    {
     "data": {
      "image/png": "[encoded data removed]",
      "text/plain": [
       "<Figure size 432x288 with 1 Axes>"
      ]
     },
     "metadata": {
      "needs_background": "light"
     },
     "output_type": "display_data"
    }
   ],
   "source": [
    "alpha = 0.01\n",
    "num_iters = 100\n",
    "\n",
    "theta = np.zeros(3)\n",
    "theta, J_history = gradientDescentMulti2(X_test, y_test, theta, alpha, num_iters)\n",
    "\n",
    "# Plot the convergence graph\n",
    "pyplot.plot(np.arange(len(J_history)), J_history, lw=2)\n",
    "pyplot.xlabel('Number of iterations')\n",
    "pyplot.ylabel('Cost J')\n",
    "\n",
    "\n",
    "print('theta computed from gradient descent: {:s}'.format(str(theta)))"
   ]
  },
  {
   "cell_type": "code",
   "execution_count": 253,
   "metadata": {},
   "outputs": [
    {
     "name": "stdout",
     "output_type": "stream",
     "text": [
      "theta computed from gradient descent: [-0.005846041851267348 0.0693991642714327 0.01747113124283551]\n"
     ]
    },
    {
     "data": {
      "image/png": "[encoded data removed]",
      "text/plain": [
       "<Figure size 432x288 with 1 Axes>"
      ]
     },
     "metadata": {
      "needs_background": "light"
     },
     "output_type": "display_data"
    }
   ],
   "source": [
    "alpha = 0.01\n",
    "num_iters = 100\n",
    "\n",
    "theta = np.zeros(3)\n",
    "theta, J_history = gradientDescentMulti3(X_test, y_test, theta, alpha, num_iters)\n",
    "\n",
    "# Plot the convergence graph\n",
    "pyplot.plot(np.arange(len(J_history)), J_history, lw=2)\n",
    "pyplot.xlabel('Number of iterations')\n",
    "pyplot.ylabel('Cost J')\n",
    "\n",
    "\n",
    "print('theta computed from gradient descent: {:s}'.format(str(theta)))"
   ]
  },
  {
   "cell_type": "code",
   "execution_count": 259,
   "metadata": {},
   "outputs": [
    {
     "name": "stdout",
     "output_type": "stream",
     "text": [
      "theta computed from gradient descent: [-0.0009508690734939005 0.011967269620728329 0.0029887620600213246]\n"
     ]
    },
    {
     "data": {
      "image/png": "[encoded data removed]",
      "text/plain": [
       "<Figure size 432x288 with 1 Axes>"
      ]
     },
     "metadata": {
      "needs_background": "light"
     },
     "output_type": "display_data"
    }
   ],
   "source": [
    "alpha = 0.001\n",
    "num_iters = 100\n",
    "\n",
    "theta = np.zeros(3)\n",
    "theta, J_history = gradientDescentMulti4(X_test, y_test, theta, alpha, num_iters)\n",
    "\n",
    "# Plot the convergence graph\n",
    "pyplot.plot(np.arange(len(J_history)), J_history, lw=2)\n",
    "pyplot.xlabel('Number of iterations')\n",
    "pyplot.ylabel('Cost J')\n",
    "\n",
    "\n",
    "print('theta computed from gradient descent: {:s}'.format(str(theta)))"
   ]
  },
  {
   "cell_type": "code",
   "execution_count": 274,
   "metadata": {},
   "outputs": [
    {
     "data": {
      "text/plain": [
       "0.4528224123806858"
      ]
     },
     "execution_count": 274,
     "metadata": {},
     "output_type": "execute_result"
    }
   ],
   "source": [
    "Jvalidate2 = computeCostMulti2(X_validate, y_validate, theta)\n",
    "Jvalidate2"
   ]
  },
  {
   "cell_type": "code",
   "execution_count": 273,
   "metadata": {},
   "outputs": [
    {
     "data": {
      "text/plain": [
       "0.4533108496414869"
      ]
     },
     "execution_count": 273,
     "metadata": {},
     "output_type": "execute_result"
    }
   ],
   "source": [
    "Jvalidate = computeCostMulti(X_validate, y_validate, theta)\n",
    "Jvalidate"
   ]
  },
  {
   "cell_type": "code",
   "execution_count": 272,
   "metadata": {},
   "outputs": [
    {
     "data": {
      "text/plain": [
       "0.4295191183246868"
      ]
     },
     "execution_count": 272,
     "metadata": {},
     "output_type": "execute_result"
    }
   ],
   "source": [
    "Jvalidate3 = computeCostMulti3(X_validate, y_validate, theta)\n",
    "Jvalidate3"
   ]
  },
  {
   "cell_type": "code",
   "execution_count": 266,
   "metadata": {},
   "outputs": [
    {
     "data": {
      "text/plain": [
       "0.5323499993050604"
      ]
     },
     "execution_count": 266,
     "metadata": {},
     "output_type": "execute_result"
    }
   ],
   "source": [
    "Jtest1 = computeCostMulti(X_test, y_test, theta)\n",
    "Jtest1"
   ]
  },
  {
   "cell_type": "code",
   "execution_count": 267,
   "metadata": {},
   "outputs": [
    {
     "data": {
      "text/plain": [
       "0.5280922212191708"
      ]
     },
     "execution_count": 267,
     "metadata": {},
     "output_type": "execute_result"
    }
   ],
   "source": [
    "Jtest2 = computeCostMulti2(X_test, y_test, theta)\n",
    "Jtest2"
   ]
  },
  {
   "cell_type": "code",
   "execution_count": 268,
   "metadata": {},
   "outputs": [
    {
     "data": {
      "text/plain": [
       "0.4848551368937611"
      ]
     },
     "execution_count": 268,
     "metadata": {},
     "output_type": "execute_result"
    }
   ],
   "source": [
    "Jtest3 = computeCostMulti3(X_test, y_test, theta)\n",
    "Jtest3"
   ]
  },
  {
   "cell_type": "code",
   "execution_count": 357,
   "metadata": {},
   "outputs": [],
   "source": [
    "def linearRegCostFunction(X_train, y_train, theta, lambda_=0.01):\n",
    "    m = y_train.size \n",
    "    J = 0\n",
    "    grad = np.zeros(theta.shape)\n",
    "\n",
    "    \n",
    "    h = X_train.dot(theta)\n",
    "    J = (1 / (2 * m)) * np.sum(np.square(h - y_train)) + (lambda_ / (2 * m)) * np.sum(np.square(theta[1:]))\n",
    "    \n",
    "    grad = (1 / m) * (h - y_train).dot(X_train)\n",
    "    \n",
    "    grad[1:] = grad[1:] + (lambda_ / m) * theta[1:]\n",
    "\n",
    "   \n",
    "    return J, grad\n"
   ]
  },
  {
   "cell_type": "code",
   "execution_count": 358,
   "metadata": {},
   "outputs": [
    {
     "name": "stdout",
     "output_type": "stream",
     "text": [
      "Cost at theta = [1, 1]:\t   0.500017 \n"
     ]
    }
   ],
   "source": [
    "theta = np.zeros(3)\n",
    "J, _ = linearRegCostFunction(np.concatenate([np.ones((m, 1)), X_train], axis=1), y_train, theta, 1)\n",
    "\n",
    "print('Cost at theta = [1, 1]:\\t   %f ' % J)"
   ]
  },
  {
   "cell_type": "code",
   "execution_count": 359,
   "metadata": {},
   "outputs": [
    {
     "name": "stdout",
     "output_type": "stream",
     "text": [
      "Gradient at theta = [1, 1]:  [0.000923, -0.510703] \n"
     ]
    }
   ],
   "source": [
    "theta = np.zeros(3)\n",
    "J, grad = linearRegCostFunction(np.concatenate([np.ones((m, 1)), X_train], axis=1), y_train, theta, 1)\n",
    "\n",
    "print('Gradient at theta = [1, 1]:  [{:.6f}, {:.6f}] '.format(*grad))\n"
   ]
  },
  {
   "cell_type": "code",
   "execution_count": 373,
   "metadata": {},
   "outputs": [],
   "source": [
    "def trainLinearReg(linearRegCostFunction, X, y, lambda_=0.0, maxiter=200):\n",
    "   \n",
    "    initial_theta = np.zeros(X_train.shape[1])\n",
    "\n",
    "    \n",
    "    costFunction = lambda t: linearRegCostFunction(X_train, y_train, t, lambda_)\n",
    "\n",
    "    \n",
    "    options = {'maxiter': maxiter}\n",
    "\n",
    "    # Minimize using scipy\n",
    "    res = optimize.minimize(costFunction, initial_theta, jac=True, method='slsqp' ,options=options)\n",
    "    return res.x"
   ]
  },
  {
   "cell_type": "code",
   "execution_count": 365,
   "metadata": {},
   "outputs": [],
   "source": [
    " \n",
    "def learningCurve(X_train, y_train, X_validate, y_validate, lambda_=0):\n",
    "    m = y_train.size\n",
    "    error_train = np.zeros(m)\n",
    "    error_validate   = np.zeros(m)\n",
    "\n",
    "    \n",
    "    for i in range(1, m + 1):\n",
    "        theta_t = trainLinearReg(linearRegCostFunction, X_train[:i], y_train[:i], lambda_ = lambda_)\n",
    "        error_train[i - 1], _ = linearRegCostFunction(X_train[:i], y_train[:i], theta_t, lambda_ = 0)\n",
    "        error_validate[i - 1], _ = linearRegCostFunction(X_validate, y_validate, theta_t, lambda_ = 0)\n",
    "        \n",
    "    return error_train, error_validate"
   ]
  },
  {
   "cell_type": "code",
   "execution_count": 366,
   "metadata": {},
   "outputs": [
    {
     "name": "stdout",
     "output_type": "stream",
     "text": [
      "1\n",
      "2\n",
      "3\n",
      "4\n",
      "5\n",
      "6\n",
      "7\n",
      "8\n",
      "9\n"
     ]
    }
   ],
   "source": [
    "for i in range(1, 10):\n",
    "    print(i)"
   ]
  },
  {
   "cell_type": "code",
   "execution_count": null,
   "metadata": {},
   "outputs": [],
   "source": [
    "X_augmentation = np.concatenate([np.ones((m, 1)), X_train], axis=1)\n",
    "X_validate_augmentation = np.concatenate([np.ones((y_validate.size, 1)), X_validate], axis=1)\n",
    "error_train, error_validate = learningCurve(X_augmentation, y_train, X_validate_augmentation, y_validate, lambda_=0)\n",
    "\n",
    "pyplot.plot(np.arange(1, m+1), error_train, np.arange(1, m+1), error_validate, lw=2)\n",
    "pyplot.title('Learning curve for linear regression')\n",
    "pyplot.legend(['Train', 'Cross Validation'])\n",
    "pyplot.xlabel('Number of training examples')\n",
    "pyplot.ylabel('Error')\n",
    "pyplot.axis([0, 13, 0, 150])\n",
    "\n",
    "print('# Training Examples\\tTrain Error\\tCross Validation Error')\n",
    "for i in range(m):\n",
    "    print('  \\t%d\\t\\t%f\\t%f' % (i+1, error_train[i], error_validate[i]))"
   ]
  },
  {
   "cell_type": "code",
   "execution_count": 374,
   "metadata": {},
   "outputs": [],
   "source": [
    "def validationCurve(X_train, y_train, X_validate, y_validate):\n",
    "    \n",
    "    lambda_vec = [0, 0.001, 0.003, 0.01, 0.03, 0.1, 0.3, 1, 3, 10]\n",
    "\n",
    "    error_train = np.zeros(len(lambda_vec))\n",
    "    error_validate = np.zeros(len(lambda_vec))\n",
    "\n",
    "    for i in range(len(lambda_vec)):\n",
    "        lambda_try = lambda_vec[i]\n",
    "        theta_t = trainLinearReg(linearRegCostFunction, X_train, y_train, lambda_ = lambda_try)\n",
    "        error_train[i], _ = linearRegCostFunction(X_train, y_train, theta_t, lambda_ = 0)\n",
    "        error_validate[i], _ = linearRegCostFunction(X_validate, y_validate, theta_t, lambda_ = 0)\n",
    "\n",
    "    return lambda_vec, error_train, error_validate"
   ]
  },
  {
   "cell_type": "code",
   "execution_count": 376,
   "metadata": {},
   "outputs": [
    {
     "ename": "ValueError",
     "evalue": "shapes (3600,3) and (2,) not aligned: 3 (dim 1) != 2 (dim 0)",
     "output_type": "error",
     "traceback": [
      "\u001b[1;31m---------------------------------------------------------------------------\u001b[0m",
      "\u001b[1;31mValueError\u001b[0m                                Traceback (most recent call last)",
      "\u001b[1;32m<ipython-input-376-ab068f6c69f5>\u001b[0m in \u001b[0;36m<module>\u001b[1;34m\u001b[0m\n\u001b[1;32m----> 1\u001b[1;33m \u001b[0mlambda_vec\u001b[0m\u001b[1;33m,\u001b[0m \u001b[0merror_train\u001b[0m\u001b[1;33m,\u001b[0m \u001b[0merror_val\u001b[0m \u001b[1;33m=\u001b[0m \u001b[0mvalidationCurve\u001b[0m\u001b[1;33m(\u001b[0m\u001b[0mX_train\u001b[0m\u001b[1;33m,\u001b[0m \u001b[0my_train\u001b[0m\u001b[1;33m,\u001b[0m \u001b[0mX_validate\u001b[0m\u001b[1;33m,\u001b[0m \u001b[0my_validate\u001b[0m\u001b[1;33m)\u001b[0m\u001b[1;33m\u001b[0m\u001b[1;33m\u001b[0m\u001b[0m\n\u001b[0m\u001b[0;32m      2\u001b[0m \u001b[1;33m\u001b[0m\u001b[0m\n\u001b[0;32m      3\u001b[0m \u001b[0mpyplot\u001b[0m\u001b[1;33m.\u001b[0m\u001b[0mplot\u001b[0m\u001b[1;33m(\u001b[0m\u001b[0mlambda_vec\u001b[0m\u001b[1;33m,\u001b[0m \u001b[0merror_train\u001b[0m\u001b[1;33m,\u001b[0m \u001b[1;34m'-o'\u001b[0m\u001b[1;33m,\u001b[0m \u001b[0mlambda_vec\u001b[0m\u001b[1;33m,\u001b[0m \u001b[0merror_validate\u001b[0m\u001b[1;33m,\u001b[0m \u001b[1;34m'-o'\u001b[0m\u001b[1;33m,\u001b[0m \u001b[0mlw\u001b[0m\u001b[1;33m=\u001b[0m\u001b[1;36m2\u001b[0m\u001b[1;33m)\u001b[0m\u001b[1;33m\u001b[0m\u001b[1;33m\u001b[0m\u001b[0m\n\u001b[0;32m      4\u001b[0m \u001b[0mpyplot\u001b[0m\u001b[1;33m.\u001b[0m\u001b[0mlegend\u001b[0m\u001b[1;33m(\u001b[0m\u001b[1;33m[\u001b[0m\u001b[1;34m'Train'\u001b[0m\u001b[1;33m,\u001b[0m \u001b[1;34m'Cross Validation'\u001b[0m\u001b[1;33m]\u001b[0m\u001b[1;33m)\u001b[0m\u001b[1;33m\u001b[0m\u001b[1;33m\u001b[0m\u001b[0m\n\u001b[0;32m      5\u001b[0m \u001b[0mpyplot\u001b[0m\u001b[1;33m.\u001b[0m\u001b[0mxlabel\u001b[0m\u001b[1;33m(\u001b[0m\u001b[1;34m'lambda'\u001b[0m\u001b[1;33m)\u001b[0m\u001b[1;33m\u001b[0m\u001b[1;33m\u001b[0m\u001b[0m\n",
      "\u001b[1;32m<ipython-input-374-ec27e1c14100>\u001b[0m in \u001b[0;36mvalidationCurve\u001b[1;34m(X_train, y_train, X_validate, y_validate)\u001b[0m\n\u001b[0;32m     10\u001b[0m         \u001b[0mtheta_t\u001b[0m \u001b[1;33m=\u001b[0m \u001b[0mtrainLinearReg\u001b[0m\u001b[1;33m(\u001b[0m\u001b[0mlinearRegCostFunction\u001b[0m\u001b[1;33m,\u001b[0m \u001b[0mX_train\u001b[0m\u001b[1;33m,\u001b[0m \u001b[0my_train\u001b[0m\u001b[1;33m,\u001b[0m \u001b[0mlambda_\u001b[0m \u001b[1;33m=\u001b[0m \u001b[0mlambda_try\u001b[0m\u001b[1;33m)\u001b[0m\u001b[1;33m\u001b[0m\u001b[1;33m\u001b[0m\u001b[0m\n\u001b[0;32m     11\u001b[0m         \u001b[0merror_train\u001b[0m\u001b[1;33m[\u001b[0m\u001b[0mi\u001b[0m\u001b[1;33m]\u001b[0m\u001b[1;33m,\u001b[0m \u001b[0m_\u001b[0m \u001b[1;33m=\u001b[0m \u001b[0mlinearRegCostFunction\u001b[0m\u001b[1;33m(\u001b[0m\u001b[0mX_train\u001b[0m\u001b[1;33m,\u001b[0m \u001b[0my_train\u001b[0m\u001b[1;33m,\u001b[0m \u001b[0mtheta_t\u001b[0m\u001b[1;33m,\u001b[0m \u001b[0mlambda_\u001b[0m \u001b[1;33m=\u001b[0m \u001b[1;36m0\u001b[0m\u001b[1;33m)\u001b[0m\u001b[1;33m\u001b[0m\u001b[1;33m\u001b[0m\u001b[0m\n\u001b[1;32m---> 12\u001b[1;33m         \u001b[0merror_validate\u001b[0m\u001b[1;33m[\u001b[0m\u001b[0mi\u001b[0m\u001b[1;33m]\u001b[0m\u001b[1;33m,\u001b[0m \u001b[0m_\u001b[0m \u001b[1;33m=\u001b[0m \u001b[0mlinearRegCostFunction\u001b[0m\u001b[1;33m(\u001b[0m\u001b[0mX_validate\u001b[0m\u001b[1;33m,\u001b[0m \u001b[0my_validate\u001b[0m\u001b[1;33m,\u001b[0m \u001b[0mtheta_t\u001b[0m\u001b[1;33m,\u001b[0m \u001b[0mlambda_\u001b[0m \u001b[1;33m=\u001b[0m \u001b[1;36m0\u001b[0m\u001b[1;33m)\u001b[0m\u001b[1;33m\u001b[0m\u001b[1;33m\u001b[0m\u001b[0m\n\u001b[0m\u001b[0;32m     13\u001b[0m \u001b[1;33m\u001b[0m\u001b[0m\n\u001b[0;32m     14\u001b[0m     \u001b[1;32mreturn\u001b[0m \u001b[0mlambda_vec\u001b[0m\u001b[1;33m,\u001b[0m \u001b[0merror_train\u001b[0m\u001b[1;33m,\u001b[0m \u001b[0merror_validate\u001b[0m\u001b[1;33m\u001b[0m\u001b[1;33m\u001b[0m\u001b[0m\n",
      "\u001b[1;32m<ipython-input-357-3e78f68f5038>\u001b[0m in \u001b[0;36mlinearRegCostFunction\u001b[1;34m(X_train, y_train, theta, lambda_)\u001b[0m\n\u001b[0;32m      5\u001b[0m \u001b[1;33m\u001b[0m\u001b[0m\n\u001b[0;32m      6\u001b[0m \u001b[1;33m\u001b[0m\u001b[0m\n\u001b[1;32m----> 7\u001b[1;33m     \u001b[0mh\u001b[0m \u001b[1;33m=\u001b[0m \u001b[0mX_train\u001b[0m\u001b[1;33m.\u001b[0m\u001b[0mdot\u001b[0m\u001b[1;33m(\u001b[0m\u001b[0mtheta\u001b[0m\u001b[1;33m)\u001b[0m\u001b[1;33m\u001b[0m\u001b[1;33m\u001b[0m\u001b[0m\n\u001b[0m\u001b[0;32m      8\u001b[0m     \u001b[0mJ\u001b[0m \u001b[1;33m=\u001b[0m \u001b[1;33m(\u001b[0m\u001b[1;36m1\u001b[0m \u001b[1;33m/\u001b[0m \u001b[1;33m(\u001b[0m\u001b[1;36m2\u001b[0m \u001b[1;33m*\u001b[0m \u001b[0mm\u001b[0m\u001b[1;33m)\u001b[0m\u001b[1;33m)\u001b[0m \u001b[1;33m*\u001b[0m \u001b[0mnp\u001b[0m\u001b[1;33m.\u001b[0m\u001b[0msum\u001b[0m\u001b[1;33m(\u001b[0m\u001b[0mnp\u001b[0m\u001b[1;33m.\u001b[0m\u001b[0msquare\u001b[0m\u001b[1;33m(\u001b[0m\u001b[0mh\u001b[0m \u001b[1;33m-\u001b[0m \u001b[0my_train\u001b[0m\u001b[1;33m)\u001b[0m\u001b[1;33m)\u001b[0m \u001b[1;33m+\u001b[0m \u001b[1;33m(\u001b[0m\u001b[0mlambda_\u001b[0m \u001b[1;33m/\u001b[0m \u001b[1;33m(\u001b[0m\u001b[1;36m2\u001b[0m \u001b[1;33m*\u001b[0m \u001b[0mm\u001b[0m\u001b[1;33m)\u001b[0m\u001b[1;33m)\u001b[0m \u001b[1;33m*\u001b[0m \u001b[0mnp\u001b[0m\u001b[1;33m.\u001b[0m\u001b[0msum\u001b[0m\u001b[1;33m(\u001b[0m\u001b[0mnp\u001b[0m\u001b[1;33m.\u001b[0m\u001b[0msquare\u001b[0m\u001b[1;33m(\u001b[0m\u001b[0mtheta\u001b[0m\u001b[1;33m[\u001b[0m\u001b[1;36m1\u001b[0m\u001b[1;33m:\u001b[0m\u001b[1;33m]\u001b[0m\u001b[1;33m)\u001b[0m\u001b[1;33m)\u001b[0m\u001b[1;33m\u001b[0m\u001b[1;33m\u001b[0m\u001b[0m\n\u001b[0;32m      9\u001b[0m \u001b[1;33m\u001b[0m\u001b[0m\n",
      "\u001b[1;31mValueError\u001b[0m: shapes (3600,3) and (2,) not aligned: 3 (dim 1) != 2 (dim 0)"
     ]
    }
   ],
   "source": [
    "lambda_vec, error_train, error_val = validationCurve(X_train, y_train, X_validate, y_validate)\n",
    "\n",
    "pyplot.plot(lambda_vec, error_train, '-o', lambda_vec, error_validate, '-o', lw=2)\n",
    "pyplot.legend(['Train', 'Cross Validation'])\n",
    "pyplot.xlabel('lambda')\n",
    "pyplot.ylabel('Error')\n",
    "\n",
    "print('lambda\\t\\tTrain Error\\tValidation Error')\n",
    "for i in range(len(lambda_vec)):\n",
    "    print(' %f\\t%f\\t%f' % (lambda_vec[i], error_train[i], error_validate[i]))"
   ]
  },
  {
   "cell_type": "code",
   "execution_count": null,
   "metadata": {},
   "outputs": [],
   "source": []
  }
 ],
 "metadata": {
  "kernelspec": {
   "display_name": "Python 3",
   "language": "python",
   "name": "python3"
  },
  "language_info": {
   "codemirror_mode": {
    "name": "ipython",
    "version": 3
   },
   "file_extension": ".py",
   "mimetype": "text/x-python",
   "name": "python",
   "nbconvert_exporter": "python",
   "pygments_lexer": "ipython3",
   "version": "3.8.0"
  }
 },
 "nbformat": 4,
 "nbformat_minor": 4
}
